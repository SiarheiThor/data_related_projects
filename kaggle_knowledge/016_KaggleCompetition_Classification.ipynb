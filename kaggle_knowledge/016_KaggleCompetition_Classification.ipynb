{
 "cells": [
  {
   "cell_type": "code",
   "execution_count": 1,
   "metadata": {},
   "outputs": [],
   "source": [
    "import pandas as pd\n",
    "import numpy as np"
   ]
  },
  {
   "cell_type": "code",
   "execution_count": 2,
   "metadata": {},
   "outputs": [],
   "source": [
    "df_train = pd.read_csv(\"train.csv\")"
   ]
  },
  {
   "cell_type": "code",
   "execution_count": 42,
   "metadata": {},
   "outputs": [
    {
     "data": {
      "text/html": [
       "<div>\n",
       "<style scoped>\n",
       "    .dataframe tbody tr th:only-of-type {\n",
       "        vertical-align: middle;\n",
       "    }\n",
       "\n",
       "    .dataframe tbody tr th {\n",
       "        vertical-align: top;\n",
       "    }\n",
       "\n",
       "    .dataframe thead th {\n",
       "        text-align: right;\n",
       "    }\n",
       "</style>\n",
       "<table border=\"1\" class=\"dataframe\">\n",
       "  <thead>\n",
       "    <tr style=\"text-align: right;\">\n",
       "      <th></th>\n",
       "      <th>PassengerId</th>\n",
       "      <th>Transported</th>\n",
       "    </tr>\n",
       "  </thead>\n",
       "  <tbody>\n",
       "    <tr>\n",
       "      <th>0</th>\n",
       "      <td>0001_01</td>\n",
       "      <td>False</td>\n",
       "    </tr>\n",
       "    <tr>\n",
       "      <th>1</th>\n",
       "      <td>0002_01</td>\n",
       "      <td>True</td>\n",
       "    </tr>\n",
       "    <tr>\n",
       "      <th>2</th>\n",
       "      <td>0003_01</td>\n",
       "      <td>False</td>\n",
       "    </tr>\n",
       "    <tr>\n",
       "      <th>3</th>\n",
       "      <td>0003_02</td>\n",
       "      <td>False</td>\n",
       "    </tr>\n",
       "    <tr>\n",
       "      <th>4</th>\n",
       "      <td>0004_01</td>\n",
       "      <td>True</td>\n",
       "    </tr>\n",
       "  </tbody>\n",
       "</table>\n",
       "</div>"
      ],
      "text/plain": [
       "  PassengerId  Transported\n",
       "0     0001_01        False\n",
       "1     0002_01         True\n",
       "2     0003_01        False\n",
       "3     0003_02        False\n",
       "4     0004_01         True"
      ]
     },
     "execution_count": 42,
     "metadata": {},
     "output_type": "execute_result"
    }
   ],
   "source": [
    "df_train[[\"PassengerId\", \"Transported\"]].head(5)"
   ]
  },
  {
   "cell_type": "code",
   "execution_count": null,
   "metadata": {},
   "outputs": [],
   "source": [
    "df_train[[\"PassengerId\"]]"
   ]
  },
  {
   "cell_type": "code",
   "execution_count": 59,
   "metadata": {},
   "outputs": [],
   "source": [
    "df_train[\"travelingInGroup\"] = df_train['PassengerId'].str[0:4].duplicated(keep=False).astype('int')"
   ]
  },
  {
   "cell_type": "code",
   "execution_count": 21,
   "metadata": {},
   "outputs": [],
   "source": [
    "df_train['Cabin_lbl'] = pd.Categorical(df_train['Cabin'].str[0]).codes"
   ]
  },
  {
   "cell_type": "code",
   "execution_count": 31,
   "metadata": {},
   "outputs": [],
   "source": [
    "df_train[\"TotalSpendings\"] = df_train[['RoomService' , 'FoodCourt', 'ShoppingMall', 'Spa', 'VRDeck' ]].sum(axis=1)"
   ]
  },
  {
   "cell_type": "code",
   "execution_count": 99,
   "metadata": {},
   "outputs": [],
   "source": [
    "def X_test(df_train):\n",
    "    df_train[\"travelingInGroup\"] = df_train['PassengerId'].str[0:4].duplicated(keep=False).astype('int')\n",
    "    df_train[\"TotalSpendings\"] = df_train[['RoomService' , 'FoodCourt', 'ShoppingMall', 'Spa', 'VRDeck' ]].sum(axis=1)\n",
    "    df_train['Cabin_lbl'] = pd.Categorical(df_train['Cabin'].str[0]).codes\n",
    "    features = [\"HomePlanet\", \"CryoSleep\", \"Destination\"] #\"RoomService_bins\",\"FoodCourt_bins\",\"ShoppingMall_bins\",\"VRDeck_bins\", \"Spa_bins\", \"VIP\"\n",
    "    X = pd.get_dummies(df_train[features]).join(df_train[['RoomService', 'FoodCourt','ShoppingMall','Spa','VRDeck', \"TotalSpendings\",\"travelingInGroup\",'Cabin_lbl']])#'Cabin_lbl'\n",
    "    return X"
   ]
  },
  {
   "cell_type": "code",
   "execution_count": null,
   "metadata": {},
   "outputs": [],
   "source": [
    "df_train['PassengerId'].fillna(value=)"
   ]
  },
  {
   "cell_type": "code",
   "execution_count": 259,
   "metadata": {},
   "outputs": [],
   "source": [
    "#Id with missing HomePlanet value but traveling together\n",
    "list_missing_home = df_train[df_train['HomePlanet'].isna() == True].query('travelingInGroup == 1')['PassengerId'].str[0:4]\n",
    "# get all values as list for each id "
   ]
  },
  {
   "cell_type": "code",
   "execution_count": 278,
   "metadata": {},
   "outputs": [],
   "source": [
    "list_missing_home_index = df_train[df_train['HomePlanet'].isna() == True].query('travelingInGroup == 1').index"
   ]
  },
  {
   "cell_type": "code",
   "execution_count": 275,
   "metadata": {},
   "outputs": [
    {
     "data": {
      "text/plain": [
       "Int64Index([  59,  113,  186,  225,  234,  274,  286,  291,  347,  365,\n",
       "            ...\n",
       "            8353, 8383, 8454, 8468, 8489, 8515, 8613, 8666, 8674, 8684],\n",
       "           dtype='int64', length=201)"
      ]
     },
     "execution_count": 275,
     "metadata": {},
     "output_type": "execute_result"
    }
   ],
   "source": [
    "df_train[df_train['HomePlanet'].isna() == True].index"
   ]
  },
  {
   "cell_type": "code",
   "execution_count": 196,
   "metadata": {},
   "outputs": [],
   "source": [
    "df_train['Psg_group'] = df_train['PassengerId'].str[0:4]"
   ]
  },
  {
   "cell_type": "code",
   "execution_count": 199,
   "metadata": {},
   "outputs": [
    {
     "data": {
      "text/html": [
       "<div>\n",
       "<style scoped>\n",
       "    .dataframe tbody tr th:only-of-type {\n",
       "        vertical-align: middle;\n",
       "    }\n",
       "\n",
       "    .dataframe tbody tr th {\n",
       "        vertical-align: top;\n",
       "    }\n",
       "\n",
       "    .dataframe thead th {\n",
       "        text-align: right;\n",
       "    }\n",
       "</style>\n",
       "<table border=\"1\" class=\"dataframe\">\n",
       "  <thead>\n",
       "    <tr style=\"text-align: right;\">\n",
       "      <th></th>\n",
       "      <th>PassengerId</th>\n",
       "      <th>HomePlanet</th>\n",
       "      <th>Psg_group</th>\n",
       "    </tr>\n",
       "  </thead>\n",
       "  <tbody>\n",
       "    <tr>\n",
       "      <th>58</th>\n",
       "      <td>0064_01</td>\n",
       "      <td>Mars</td>\n",
       "      <td>0064</td>\n",
       "    </tr>\n",
       "    <tr>\n",
       "      <th>59</th>\n",
       "      <td>0064_02</td>\n",
       "      <td>NaN</td>\n",
       "      <td>0064</td>\n",
       "    </tr>\n",
       "    <tr>\n",
       "      <th>113</th>\n",
       "      <td>0119_01</td>\n",
       "      <td>NaN</td>\n",
       "      <td>0119</td>\n",
       "    </tr>\n",
       "    <tr>\n",
       "      <th>114</th>\n",
       "      <td>0119_02</td>\n",
       "      <td>Europa</td>\n",
       "      <td>0119</td>\n",
       "    </tr>\n",
       "    <tr>\n",
       "      <th>404</th>\n",
       "      <td>0444_01</td>\n",
       "      <td>Mars</td>\n",
       "      <td>0444</td>\n",
       "    </tr>\n",
       "    <tr>\n",
       "      <th>...</th>\n",
       "      <td>...</td>\n",
       "      <td>...</td>\n",
       "      <td>...</td>\n",
       "    </tr>\n",
       "    <tr>\n",
       "      <th>8489</th>\n",
       "      <td>9072_01</td>\n",
       "      <td>NaN</td>\n",
       "      <td>9072</td>\n",
       "    </tr>\n",
       "    <tr>\n",
       "      <th>8490</th>\n",
       "      <td>9072_02</td>\n",
       "      <td>Mars</td>\n",
       "      <td>9072</td>\n",
       "    </tr>\n",
       "    <tr>\n",
       "      <th>8491</th>\n",
       "      <td>9072_03</td>\n",
       "      <td>Mars</td>\n",
       "      <td>9072</td>\n",
       "    </tr>\n",
       "    <tr>\n",
       "      <th>8613</th>\n",
       "      <td>9194_01</td>\n",
       "      <td>NaN</td>\n",
       "      <td>9194</td>\n",
       "    </tr>\n",
       "    <tr>\n",
       "      <th>8614</th>\n",
       "      <td>9194_02</td>\n",
       "      <td>Europa</td>\n",
       "      <td>9194</td>\n",
       "    </tr>\n",
       "  </tbody>\n",
       "</table>\n",
       "<p>288 rows × 3 columns</p>\n",
       "</div>"
      ],
      "text/plain": [
       "     PassengerId HomePlanet Psg_group\n",
       "58       0064_01       Mars      0064\n",
       "59       0064_02        NaN      0064\n",
       "113      0119_01        NaN      0119\n",
       "114      0119_02     Europa      0119\n",
       "404      0444_01       Mars      0444\n",
       "...          ...        ...       ...\n",
       "8489     9072_01        NaN      9072\n",
       "8490     9072_02       Mars      9072\n",
       "8491     9072_03       Mars      9072\n",
       "8613     9194_01        NaN      9194\n",
       "8614     9194_02     Europa      9194\n",
       "\n",
       "[288 rows x 3 columns]"
      ]
     },
     "execution_count": 199,
     "metadata": {},
     "output_type": "execute_result"
    }
   ],
   "source": [
    "df_train[['PassengerId','HomePlanet','Psg_group']][df_train['PassengerId'].str.contains('|'.join(list_missing_home))]"
   ]
  },
  {
   "cell_type": "code",
   "execution_count": 277,
   "metadata": {},
   "outputs": [
    {
     "data": {
      "text/plain": [
       "[nan]"
      ]
     },
     "execution_count": 277,
     "metadata": {},
     "output_type": "execute_result"
    }
   ],
   "source": [
    "df_train.query(\"Psg_group == '0210'\")['HomePlanet'].sort_values().tolist()"
   ]
  },
  {
   "cell_type": "code",
   "execution_count": 237,
   "metadata": {},
   "outputs": [
    {
     "data": {
      "text/plain": [
       "'Europa'"
      ]
     },
     "execution_count": 237,
     "metadata": {},
     "output_type": "execute_result"
    }
   ],
   "source": [
    "counter = 0\n",
    "df_train['Psg_group'].iloc[counter]\n",
    "if type(planet) == float:\n",
    "        df_train['HomePlanet'].iloc[counter] #= df_train.query(f\"Psg_group == {counter}\")['HomePlanet'].sort_values().tolist()[0]\n",
    "        id = df_train['Psg_group'].iloc[counter]\n",
    "        #print(df_train['HomePlanet'].iloc[counter])\n",
    "        print(id)\n",
    "        print(df_train.query(f\"Psg_group == '{id}'\")['HomePlanet'].sort_values().tolist()[0])"
   ]
  },
  {
   "cell_type": "code",
   "execution_count": 284,
   "metadata": {},
   "outputs": [
    {
     "ename": "AttributeError",
     "evalue": "'str' object has no attribute 'fillna'",
     "output_type": "error",
     "traceback": [
      "\u001b[0;31m---------------------------------------------------------------------------\u001b[0m",
      "\u001b[0;31mAttributeError\u001b[0m                            Traceback (most recent call last)",
      "Cell \u001b[0;32mIn[284], line 3\u001b[0m\n\u001b[1;32m      1\u001b[0m \u001b[39mfor\u001b[39;00m \u001b[39mid\u001b[39m \u001b[39min\u001b[39;00m list_missing_home_index:\n\u001b[1;32m      2\u001b[0m     room \u001b[39m=\u001b[39m df_train[\u001b[39m'\u001b[39m\u001b[39mPsg_group\u001b[39m\u001b[39m'\u001b[39m]\u001b[39m.\u001b[39miloc[\u001b[39mid\u001b[39m]\n\u001b[0;32m----> 3\u001b[0m     df_train[\u001b[39m'\u001b[39;49m\u001b[39mHomePlanet\u001b[39;49m\u001b[39m'\u001b[39;49m]\u001b[39m.\u001b[39;49miloc[\u001b[39mid\u001b[39;49m]\u001b[39m.\u001b[39;49mfillna(df_train\u001b[39m.\u001b[39mquery(\u001b[39mf\u001b[39m\u001b[39m\"\u001b[39m\u001b[39mPsg_group == \u001b[39m\u001b[39m'\u001b[39m\u001b[39m{\u001b[39;00mroom\u001b[39m}\u001b[39;00m\u001b[39m'\u001b[39m\u001b[39m\"\u001b[39m)[\u001b[39m'\u001b[39m\u001b[39mHomePlanet\u001b[39m\u001b[39m'\u001b[39m]\u001b[39m.\u001b[39msort_values()\u001b[39m.\u001b[39mtolist()[\u001b[39m0\u001b[39m], inplace \u001b[39m=\u001b[39m \u001b[39mTrue\u001b[39;00m)\n",
      "\u001b[0;31mAttributeError\u001b[0m: 'str' object has no attribute 'fillna'"
     ]
    }
   ],
   "source": [
    "\n",
    "for id in list_missing_home_index:\n",
    "    room = df_train['Psg_group'].iloc[id]\n",
    "    df_train['HomePlanet'].iloc[id].fillna(df_train.query(f\"Psg_group == '{room}'\")['HomePlanet'].sort_values().tolist()[0], inplace = True)\n",
    "    \n"
   ]
  },
  {
   "cell_type": "code",
   "execution_count": null,
   "metadata": {},
   "outputs": [],
   "source": [
    "df_train[df_train['HomePlanet'].isna() == True].query('travelingInGroup == 1')['PassengerId']"
   ]
  },
  {
   "cell_type": "code",
   "execution_count": 94,
   "metadata": {},
   "outputs": [],
   "source": [
    "features = [\"HomePlanet\", \"CryoSleep\", \"Destination\"] #\"RoomService_bins\",\"FoodCourt_bins\",\"ShoppingMall_bins\",\"VRDeck_bins\", \"Spa_bins\", \"VIP\"\n",
    "X = pd.get_dummies(df_train[features]).join(df_train[['RoomService', 'FoodCourt','ShoppingMall','Spa','VRDeck', \"TotalSpendings\",\"travelingInGroup\",'Cabin_lbl']])#'Cabin_lbl'\n",
    "Y = df_train['Transported']"
   ]
  },
  {
   "cell_type": "code",
   "execution_count": 288,
   "metadata": {},
   "outputs": [
    {
     "data": {
      "text/html": [
       "<div>\n",
       "<style scoped>\n",
       "    .dataframe tbody tr th:only-of-type {\n",
       "        vertical-align: middle;\n",
       "    }\n",
       "\n",
       "    .dataframe tbody tr th {\n",
       "        vertical-align: top;\n",
       "    }\n",
       "\n",
       "    .dataframe thead th {\n",
       "        text-align: right;\n",
       "    }\n",
       "</style>\n",
       "<table border=\"1\" class=\"dataframe\">\n",
       "  <thead>\n",
       "    <tr style=\"text-align: right;\">\n",
       "      <th></th>\n",
       "      <th>HomePlanet_Earth</th>\n",
       "      <th>HomePlanet_Europa</th>\n",
       "      <th>HomePlanet_Mars</th>\n",
       "      <th>CryoSleep_False</th>\n",
       "      <th>CryoSleep_True</th>\n",
       "      <th>Destination_55 Cancri e</th>\n",
       "      <th>Destination_PSO J318.5-22</th>\n",
       "      <th>Destination_TRAPPIST-1e</th>\n",
       "      <th>RoomService</th>\n",
       "      <th>FoodCourt</th>\n",
       "      <th>ShoppingMall</th>\n",
       "      <th>Spa</th>\n",
       "      <th>VRDeck</th>\n",
       "      <th>TotalSpendings</th>\n",
       "      <th>travelingInGroup</th>\n",
       "      <th>Cabin_lbl</th>\n",
       "    </tr>\n",
       "  </thead>\n",
       "  <tbody>\n",
       "    <tr>\n",
       "      <th>0</th>\n",
       "      <td>0</td>\n",
       "      <td>1</td>\n",
       "      <td>0</td>\n",
       "      <td>1</td>\n",
       "      <td>0</td>\n",
       "      <td>0</td>\n",
       "      <td>0</td>\n",
       "      <td>1</td>\n",
       "      <td>0.0</td>\n",
       "      <td>0.0</td>\n",
       "      <td>0.0</td>\n",
       "      <td>0.0</td>\n",
       "      <td>0.0</td>\n",
       "      <td>0.0</td>\n",
       "      <td>0</td>\n",
       "      <td>1</td>\n",
       "    </tr>\n",
       "    <tr>\n",
       "      <th>1</th>\n",
       "      <td>1</td>\n",
       "      <td>0</td>\n",
       "      <td>0</td>\n",
       "      <td>1</td>\n",
       "      <td>0</td>\n",
       "      <td>0</td>\n",
       "      <td>0</td>\n",
       "      <td>1</td>\n",
       "      <td>109.0</td>\n",
       "      <td>9.0</td>\n",
       "      <td>25.0</td>\n",
       "      <td>549.0</td>\n",
       "      <td>44.0</td>\n",
       "      <td>736.0</td>\n",
       "      <td>0</td>\n",
       "      <td>5</td>\n",
       "    </tr>\n",
       "    <tr>\n",
       "      <th>2</th>\n",
       "      <td>0</td>\n",
       "      <td>1</td>\n",
       "      <td>0</td>\n",
       "      <td>1</td>\n",
       "      <td>0</td>\n",
       "      <td>0</td>\n",
       "      <td>0</td>\n",
       "      <td>1</td>\n",
       "      <td>43.0</td>\n",
       "      <td>3576.0</td>\n",
       "      <td>0.0</td>\n",
       "      <td>6715.0</td>\n",
       "      <td>49.0</td>\n",
       "      <td>10383.0</td>\n",
       "      <td>1</td>\n",
       "      <td>0</td>\n",
       "    </tr>\n",
       "    <tr>\n",
       "      <th>3</th>\n",
       "      <td>0</td>\n",
       "      <td>1</td>\n",
       "      <td>0</td>\n",
       "      <td>1</td>\n",
       "      <td>0</td>\n",
       "      <td>0</td>\n",
       "      <td>0</td>\n",
       "      <td>1</td>\n",
       "      <td>0.0</td>\n",
       "      <td>1283.0</td>\n",
       "      <td>371.0</td>\n",
       "      <td>3329.0</td>\n",
       "      <td>193.0</td>\n",
       "      <td>5176.0</td>\n",
       "      <td>1</td>\n",
       "      <td>0</td>\n",
       "    </tr>\n",
       "    <tr>\n",
       "      <th>4</th>\n",
       "      <td>1</td>\n",
       "      <td>0</td>\n",
       "      <td>0</td>\n",
       "      <td>1</td>\n",
       "      <td>0</td>\n",
       "      <td>0</td>\n",
       "      <td>0</td>\n",
       "      <td>1</td>\n",
       "      <td>303.0</td>\n",
       "      <td>70.0</td>\n",
       "      <td>151.0</td>\n",
       "      <td>565.0</td>\n",
       "      <td>2.0</td>\n",
       "      <td>1091.0</td>\n",
       "      <td>0</td>\n",
       "      <td>5</td>\n",
       "    </tr>\n",
       "  </tbody>\n",
       "</table>\n",
       "</div>"
      ],
      "text/plain": [
       "   HomePlanet_Earth  HomePlanet_Europa  HomePlanet_Mars  CryoSleep_False  \\\n",
       "0                 0                  1                0                1   \n",
       "1                 1                  0                0                1   \n",
       "2                 0                  1                0                1   \n",
       "3                 0                  1                0                1   \n",
       "4                 1                  0                0                1   \n",
       "\n",
       "   CryoSleep_True  Destination_55 Cancri e  Destination_PSO J318.5-22  \\\n",
       "0               0                        0                          0   \n",
       "1               0                        0                          0   \n",
       "2               0                        0                          0   \n",
       "3               0                        0                          0   \n",
       "4               0                        0                          0   \n",
       "\n",
       "   Destination_TRAPPIST-1e  RoomService  FoodCourt  ShoppingMall     Spa  \\\n",
       "0                        1          0.0        0.0           0.0     0.0   \n",
       "1                        1        109.0        9.0          25.0   549.0   \n",
       "2                        1         43.0     3576.0           0.0  6715.0   \n",
       "3                        1          0.0     1283.0         371.0  3329.0   \n",
       "4                        1        303.0       70.0         151.0   565.0   \n",
       "\n",
       "   VRDeck  TotalSpendings  travelingInGroup  Cabin_lbl  \n",
       "0     0.0             0.0                 0          1  \n",
       "1    44.0           736.0                 0          5  \n",
       "2    49.0         10383.0                 1          0  \n",
       "3   193.0          5176.0                 1          0  \n",
       "4     2.0          1091.0                 0          5  "
      ]
     },
     "execution_count": 288,
     "metadata": {},
     "output_type": "execute_result"
    }
   ],
   "source": [
    "X.head()"
   ]
  },
  {
   "cell_type": "code",
   "execution_count": 245,
   "metadata": {},
   "outputs": [],
   "source": [
    "np.save('x_train.npy', X.to_numpy(), allow_pickle=True)\n",
    "np.save('y_train.npy', Y.to_numpy(), allow_pickle=True)"
   ]
  },
  {
   "cell_type": "code",
   "execution_count": 5,
   "metadata": {},
   "outputs": [],
   "source": [
    "import sklearn\n",
    "from sklearn.preprocessing import StandardScaler, MinMaxScaler\n",
    "from sklearn.model_selection import train_test_split\n",
    "import xgboost as xgb\n",
    "from sklearn.model_selection import GridSearchCV"
   ]
  },
  {
   "cell_type": "code",
   "execution_count": 170,
   "metadata": {},
   "outputs": [
    {
     "name": "stdout",
     "output_type": "stream",
     "text": [
      "0.8016101207590569\n"
     ]
    }
   ],
   "source": [
    "x_train, x_cv, y_train, y_cv = train_test_split(X,Y,test_size=0.20, random_state=1)\n",
    "\n",
    "dtrain = xgb.DMatrix(x_train,y_train)\n",
    "dtest = xgb.DMatrix(x_cv)\n",
    "\n",
    "param = {'booster': 'gbtree', 'eval_metric': 'auc', 'learning_rate': 0.4, 'max_depth':5, 'objective': 'binary:logistic'}#{\"eval_metric\":\"auc\", \"objective\": \"binary:logistic\"}\n",
    "num_rounds = 10\n",
    "model = xgb.train(param, dtrain, num_rounds)\n",
    "\n",
    "preds = model.predict(dtest)\n",
    "\n",
    "from sklearn.metrics import accuracy_score\n",
    "\n",
    "accuracy = accuracy_score(y_cv, preds.round())\n",
    "print(accuracy)"
   ]
  },
  {
   "cell_type": "code",
   "execution_count": 75,
   "metadata": {},
   "outputs": [],
   "source": [
    "#making predictions"
   ]
  },
  {
   "cell_type": "code",
   "execution_count": 100,
   "metadata": {},
   "outputs": [],
   "source": [
    "df_test = pd.read_csv(\"test.csv\")"
   ]
  },
  {
   "cell_type": "code",
   "execution_count": 101,
   "metadata": {},
   "outputs": [],
   "source": [
    "X_pred = X_test(df_test)"
   ]
  },
  {
   "cell_type": "code",
   "execution_count": 103,
   "metadata": {},
   "outputs": [],
   "source": [
    "dpred = xgb.DMatrix(X_pred)"
   ]
  },
  {
   "cell_type": "code",
   "execution_count": 161,
   "metadata": {},
   "outputs": [],
   "source": [
    "tst_preds = model.predict(dpred)"
   ]
  },
  {
   "cell_type": "code",
   "execution_count": 81,
   "metadata": {},
   "outputs": [],
   "source": [
    "#creating CSV"
   ]
  },
  {
   "cell_type": "code",
   "execution_count": 162,
   "metadata": {},
   "outputs": [],
   "source": [
    "df_subm = pd.DataFrame({\"PassengerId\":df_test[\"PassengerId\"].tolist(),\"Transported\": tst_preds.round().tolist()})\n",
    "df_subm[\"Transported\"] = df_subm[\"Transported\"].astype('bool')\n",
    "df_subm.to_csv(\"submission_XGboost_v2.csv\",index=False)"
   ]
  },
  {
   "cell_type": "code",
   "execution_count": 163,
   "metadata": {},
   "outputs": [
    {
     "data": {
      "text/html": [
       "<div>\n",
       "<style scoped>\n",
       "    .dataframe tbody tr th:only-of-type {\n",
       "        vertical-align: middle;\n",
       "    }\n",
       "\n",
       "    .dataframe tbody tr th {\n",
       "        vertical-align: top;\n",
       "    }\n",
       "\n",
       "    .dataframe thead th {\n",
       "        text-align: right;\n",
       "    }\n",
       "</style>\n",
       "<table border=\"1\" class=\"dataframe\">\n",
       "  <thead>\n",
       "    <tr style=\"text-align: right;\">\n",
       "      <th></th>\n",
       "      <th>PassengerId</th>\n",
       "      <th>Transported</th>\n",
       "    </tr>\n",
       "  </thead>\n",
       "  <tbody>\n",
       "    <tr>\n",
       "      <th>0</th>\n",
       "      <td>0013_01</td>\n",
       "      <td>True</td>\n",
       "    </tr>\n",
       "    <tr>\n",
       "      <th>1</th>\n",
       "      <td>0018_01</td>\n",
       "      <td>False</td>\n",
       "    </tr>\n",
       "    <tr>\n",
       "      <th>2</th>\n",
       "      <td>0019_01</td>\n",
       "      <td>True</td>\n",
       "    </tr>\n",
       "    <tr>\n",
       "      <th>3</th>\n",
       "      <td>0021_01</td>\n",
       "      <td>True</td>\n",
       "    </tr>\n",
       "    <tr>\n",
       "      <th>4</th>\n",
       "      <td>0023_01</td>\n",
       "      <td>True</td>\n",
       "    </tr>\n",
       "  </tbody>\n",
       "</table>\n",
       "</div>"
      ],
      "text/plain": [
       "  PassengerId  Transported\n",
       "0     0013_01         True\n",
       "1     0018_01        False\n",
       "2     0019_01         True\n",
       "3     0021_01         True\n",
       "4     0023_01         True"
      ]
     },
     "execution_count": 163,
     "metadata": {},
     "output_type": "execute_result"
    }
   ],
   "source": [
    "df_subm.head()"
   ]
  },
  {
   "cell_type": "code",
   "execution_count": 166,
   "metadata": {},
   "outputs": [],
   "source": [
    "df_subm_v0 = pd.read_csv('submission_XGboost_v1.csv')"
   ]
  },
  {
   "cell_type": "code",
   "execution_count": 167,
   "metadata": {},
   "outputs": [],
   "source": [
    "diff_rows = (df_subm.ne(df_subm_v0)).any(axis=1)"
   ]
  },
  {
   "cell_type": "code",
   "execution_count": 168,
   "metadata": {},
   "outputs": [
    {
     "data": {
      "text/plain": [
       "False    4077\n",
       "True      200\n",
       "dtype: int64"
      ]
     },
     "execution_count": 168,
     "metadata": {},
     "output_type": "execute_result"
    }
   ],
   "source": [
    "diff_rows.value_counts()"
   ]
  },
  {
   "cell_type": "code",
   "execution_count": 113,
   "metadata": {},
   "outputs": [
    {
     "data": {
      "text/plain": [
       "0.02467656923814087"
      ]
     },
     "execution_count": 113,
     "metadata": {},
     "output_type": "execute_result"
    }
   ],
   "source": [
    "103/4174"
   ]
  },
  {
   "cell_type": "code",
   "execution_count": 286,
   "metadata": {},
   "outputs": [],
   "source": [
    "# trying out the catboost\n",
    "from catboost import CatBoostClassifier"
   ]
  },
  {
   "cell_type": "code",
   "execution_count": 320,
   "metadata": {},
   "outputs": [],
   "source": [
    "cat_model = CatBoostClassifier(iterations=1000, depth=6, learning_rate=0.1, loss_function='Logloss', \n",
    "                           eval_metric='AUC', use_best_model=True, random_seed=42) #"
   ]
  },
  {
   "cell_type": "code",
   "execution_count": 321,
   "metadata": {},
   "outputs": [
    {
     "name": "stdout",
     "output_type": "stream",
     "text": [
      "0:\ttest: 0.8465868\tbest: 0.8465868 (0)\ttotal: 2.89ms\tremaining: 2.88s\n",
      "1:\ttest: 0.8665027\tbest: 0.8665027 (1)\ttotal: 5.87ms\tremaining: 2.93s\n",
      "2:\ttest: 0.8700673\tbest: 0.8700673 (2)\ttotal: 8.34ms\tremaining: 2.77s\n",
      "3:\ttest: 0.8754367\tbest: 0.8754367 (3)\ttotal: 11.6ms\tremaining: 2.88s\n",
      "4:\ttest: 0.8749108\tbest: 0.8754367 (3)\ttotal: 14.2ms\tremaining: 2.82s\n",
      "5:\ttest: 0.8761210\tbest: 0.8761210 (5)\ttotal: 16.6ms\tremaining: 2.75s\n",
      "6:\ttest: 0.8781610\tbest: 0.8781610 (6)\ttotal: 18.7ms\tremaining: 2.65s\n",
      "7:\ttest: 0.8766020\tbest: 0.8781610 (6)\ttotal: 20.9ms\tremaining: 2.59s\n",
      "8:\ttest: 0.8781187\tbest: 0.8781610 (6)\ttotal: 23.5ms\tremaining: 2.59s\n",
      "9:\ttest: 0.8790620\tbest: 0.8790620 (9)\ttotal: 25.7ms\tremaining: 2.54s\n",
      "10:\ttest: 0.8799367\tbest: 0.8799367 (10)\ttotal: 28.1ms\tremaining: 2.52s\n",
      "11:\ttest: 0.8834828\tbest: 0.8834828 (11)\ttotal: 30.4ms\tremaining: 2.5s\n",
      "12:\ttest: 0.8846508\tbest: 0.8846508 (12)\ttotal: 33.4ms\tremaining: 2.53s\n",
      "13:\ttest: 0.8865956\tbest: 0.8865956 (13)\ttotal: 35.5ms\tremaining: 2.5s\n",
      "14:\ttest: 0.8867964\tbest: 0.8867964 (14)\ttotal: 37.6ms\tremaining: 2.47s\n",
      "15:\ttest: 0.8874438\tbest: 0.8874438 (15)\ttotal: 39.7ms\tremaining: 2.44s\n",
      "16:\ttest: 0.8877503\tbest: 0.8877503 (16)\ttotal: 41.7ms\tremaining: 2.41s\n",
      "17:\ttest: 0.8885615\tbest: 0.8885615 (17)\ttotal: 43.8ms\tremaining: 2.39s\n",
      "18:\ttest: 0.8898352\tbest: 0.8898352 (18)\ttotal: 45.8ms\tremaining: 2.36s\n",
      "19:\ttest: 0.8905407\tbest: 0.8905407 (19)\ttotal: 47.8ms\tremaining: 2.34s\n",
      "20:\ttest: 0.8919570\tbest: 0.8919570 (20)\ttotal: 50ms\tremaining: 2.33s\n",
      "21:\ttest: 0.8920997\tbest: 0.8920997 (21)\ttotal: 52ms\tremaining: 2.31s\n",
      "22:\ttest: 0.8925701\tbest: 0.8925701 (22)\ttotal: 56.5ms\tremaining: 2.4s\n",
      "23:\ttest: 0.8918936\tbest: 0.8925701 (22)\ttotal: 60.5ms\tremaining: 2.46s\n",
      "24:\ttest: 0.8922900\tbest: 0.8925701 (22)\ttotal: 63.6ms\tremaining: 2.48s\n",
      "25:\ttest: 0.8930087\tbest: 0.8930087 (25)\ttotal: 66.1ms\tremaining: 2.47s\n",
      "26:\ttest: 0.8935372\tbest: 0.8935372 (26)\ttotal: 69ms\tremaining: 2.49s\n",
      "27:\ttest: 0.8935848\tbest: 0.8935848 (27)\ttotal: 72.7ms\tremaining: 2.52s\n",
      "28:\ttest: 0.8935742\tbest: 0.8935848 (27)\ttotal: 75.5ms\tremaining: 2.53s\n",
      "29:\ttest: 0.8931778\tbest: 0.8935848 (27)\ttotal: 79.3ms\tremaining: 2.56s\n",
      "30:\ttest: 0.8929294\tbest: 0.8935848 (27)\ttotal: 82.3ms\tremaining: 2.57s\n",
      "31:\ttest: 0.8940762\tbest: 0.8940762 (31)\ttotal: 88.7ms\tremaining: 2.68s\n",
      "32:\ttest: 0.8944039\tbest: 0.8944039 (32)\ttotal: 96.9ms\tremaining: 2.84s\n",
      "33:\ttest: 0.8942374\tbest: 0.8944039 (32)\ttotal: 109ms\tremaining: 3.09s\n",
      "34:\ttest: 0.8945862\tbest: 0.8945862 (34)\ttotal: 119ms\tremaining: 3.27s\n",
      "35:\ttest: 0.8944277\tbest: 0.8945862 (34)\ttotal: 121ms\tremaining: 3.24s\n",
      "36:\ttest: 0.8946444\tbest: 0.8946444 (36)\ttotal: 124ms\tremaining: 3.23s\n",
      "37:\ttest: 0.8949984\tbest: 0.8949984 (37)\ttotal: 136ms\tremaining: 3.45s\n",
      "38:\ttest: 0.8955586\tbest: 0.8955586 (38)\ttotal: 146ms\tremaining: 3.61s\n",
      "39:\ttest: 0.8961637\tbest: 0.8961637 (39)\ttotal: 149ms\tremaining: 3.58s\n",
      "40:\ttest: 0.8962642\tbest: 0.8962642 (40)\ttotal: 152ms\tremaining: 3.54s\n",
      "41:\ttest: 0.8963117\tbest: 0.8963117 (41)\ttotal: 154ms\tremaining: 3.52s\n",
      "42:\ttest: 0.8961056\tbest: 0.8963117 (41)\ttotal: 157ms\tremaining: 3.49s\n",
      "43:\ttest: 0.8964174\tbest: 0.8964174 (43)\ttotal: 159ms\tremaining: 3.46s\n",
      "44:\ttest: 0.8964861\tbest: 0.8964861 (44)\ttotal: 163ms\tremaining: 3.45s\n",
      "45:\ttest: 0.8965760\tbest: 0.8965760 (45)\ttotal: 165ms\tremaining: 3.43s\n",
      "46:\ttest: 0.8962324\tbest: 0.8965760 (45)\ttotal: 168ms\tremaining: 3.4s\n",
      "47:\ttest: 0.8967266\tbest: 0.8967266 (47)\ttotal: 170ms\tremaining: 3.37s\n",
      "48:\ttest: 0.8963778\tbest: 0.8967266 (47)\ttotal: 172ms\tremaining: 3.34s\n",
      "49:\ttest: 0.8964412\tbest: 0.8967266 (47)\ttotal: 174ms\tremaining: 3.3s\n",
      "50:\ttest: 0.8968957\tbest: 0.8968957 (50)\ttotal: 176ms\tremaining: 3.27s\n",
      "51:\ttest: 0.8969644\tbest: 0.8969644 (51)\ttotal: 178ms\tremaining: 3.25s\n",
      "52:\ttest: 0.8973872\tbest: 0.8973872 (52)\ttotal: 181ms\tremaining: 3.23s\n",
      "53:\ttest: 0.8971335\tbest: 0.8973872 (52)\ttotal: 183ms\tremaining: 3.2s\n",
      "54:\ttest: 0.8971546\tbest: 0.8973872 (52)\ttotal: 185ms\tremaining: 3.17s\n",
      "55:\ttest: 0.8965997\tbest: 0.8973872 (52)\ttotal: 187ms\tremaining: 3.15s\n",
      "56:\ttest: 0.8967953\tbest: 0.8973872 (52)\ttotal: 189ms\tremaining: 3.13s\n",
      "57:\ttest: 0.8969221\tbest: 0.8973872 (52)\ttotal: 193ms\tremaining: 3.13s\n",
      "58:\ttest: 0.8965258\tbest: 0.8973872 (52)\ttotal: 196ms\tremaining: 3.13s\n",
      "59:\ttest: 0.8965284\tbest: 0.8973872 (52)\ttotal: 199ms\tremaining: 3.12s\n",
      "60:\ttest: 0.8962324\tbest: 0.8973872 (52)\ttotal: 202ms\tremaining: 3.11s\n",
      "61:\ttest: 0.8965918\tbest: 0.8973872 (52)\ttotal: 205ms\tremaining: 3.11s\n",
      "62:\ttest: 0.8966235\tbest: 0.8973872 (52)\ttotal: 209ms\tremaining: 3.1s\n",
      "63:\ttest: 0.8971414\tbest: 0.8973872 (52)\ttotal: 212ms\tremaining: 3.1s\n",
      "64:\ttest: 0.8968243\tbest: 0.8973872 (52)\ttotal: 215ms\tremaining: 3.1s\n",
      "65:\ttest: 0.8965865\tbest: 0.8973872 (52)\ttotal: 218ms\tremaining: 3.09s\n",
      "66:\ttest: 0.8965125\tbest: 0.8973872 (52)\ttotal: 221ms\tremaining: 3.07s\n",
      "67:\ttest: 0.8961796\tbest: 0.8973872 (52)\ttotal: 223ms\tremaining: 3.05s\n",
      "68:\ttest: 0.8960105\tbest: 0.8973872 (52)\ttotal: 225ms\tremaining: 3.04s\n",
      "69:\ttest: 0.8961955\tbest: 0.8973872 (52)\ttotal: 228ms\tremaining: 3.03s\n",
      "70:\ttest: 0.8958308\tbest: 0.8973872 (52)\ttotal: 230ms\tremaining: 3.01s\n",
      "71:\ttest: 0.8961373\tbest: 0.8973872 (52)\ttotal: 233ms\tremaining: 3s\n",
      "72:\ttest: 0.8968296\tbest: 0.8973872 (52)\ttotal: 235ms\tremaining: 2.98s\n",
      "Stopped by overfitting detector  (20 iterations wait)\n",
      "\n",
      "bestTest = 0.8973871822\n",
      "bestIteration = 52\n",
      "\n",
      "Shrink model to first 53 iterations.\n"
     ]
    },
    {
     "data": {
      "text/plain": [
       "<catboost.core.CatBoostClassifier at 0x7fec471d4f70>"
      ]
     },
     "execution_count": 321,
     "metadata": {},
     "output_type": "execute_result"
    }
   ],
   "source": [
    "# fit the model on the training data\n",
    "x_train, x_cv, y_train, y_cv = train_test_split(X,Y,test_size=0.10, random_state=1)\n",
    "cat_model.fit(x_train, y_train, eval_set=(x_cv, y_cv), early_stopping_rounds=20) #cat_features=[0,1,2], "
   ]
  },
  {
   "cell_type": "code",
   "execution_count": 322,
   "metadata": {},
   "outputs": [],
   "source": [
    "cat_pred = cat_model.predict(X_pred)"
   ]
  },
  {
   "cell_type": "code",
   "execution_count": 309,
   "metadata": {},
   "outputs": [
    {
     "data": {
      "text/plain": [
       "(4277,)"
      ]
     },
     "execution_count": 309,
     "metadata": {},
     "output_type": "execute_result"
    }
   ],
   "source": [
    "cat_pred.shape"
   ]
  },
  {
   "cell_type": "code",
   "execution_count": 323,
   "metadata": {},
   "outputs": [],
   "source": [
    "df_subm = pd.DataFrame({\"PassengerId\":df_test[\"PassengerId\"].tolist(),\"Transported\":cat_pred.ravel().tolist()})\n",
    "#df_subm[\"Transported\"] = df_subm[\"Transported\"].astype('bool')\n",
    "df_subm.to_csv(\"submission_catboost_V4.csv\",index=False)"
   ]
  },
  {
   "cell_type": "code",
   "execution_count": 324,
   "metadata": {},
   "outputs": [
    {
     "data": {
      "text/html": [
       "<div>\n",
       "<style scoped>\n",
       "    .dataframe tbody tr th:only-of-type {\n",
       "        vertical-align: middle;\n",
       "    }\n",
       "\n",
       "    .dataframe tbody tr th {\n",
       "        vertical-align: top;\n",
       "    }\n",
       "\n",
       "    .dataframe thead th {\n",
       "        text-align: right;\n",
       "    }\n",
       "</style>\n",
       "<table border=\"1\" class=\"dataframe\">\n",
       "  <thead>\n",
       "    <tr style=\"text-align: right;\">\n",
       "      <th></th>\n",
       "      <th>PassengerId</th>\n",
       "      <th>Transported</th>\n",
       "    </tr>\n",
       "  </thead>\n",
       "  <tbody>\n",
       "    <tr>\n",
       "      <th>0</th>\n",
       "      <td>0013_01</td>\n",
       "      <td>True</td>\n",
       "    </tr>\n",
       "    <tr>\n",
       "      <th>1</th>\n",
       "      <td>0018_01</td>\n",
       "      <td>False</td>\n",
       "    </tr>\n",
       "    <tr>\n",
       "      <th>2</th>\n",
       "      <td>0019_01</td>\n",
       "      <td>True</td>\n",
       "    </tr>\n",
       "    <tr>\n",
       "      <th>3</th>\n",
       "      <td>0021_01</td>\n",
       "      <td>True</td>\n",
       "    </tr>\n",
       "    <tr>\n",
       "      <th>4</th>\n",
       "      <td>0023_01</td>\n",
       "      <td>True</td>\n",
       "    </tr>\n",
       "    <tr>\n",
       "      <th>...</th>\n",
       "      <td>...</td>\n",
       "      <td>...</td>\n",
       "    </tr>\n",
       "    <tr>\n",
       "      <th>95</th>\n",
       "      <td>0214_02</td>\n",
       "      <td>False</td>\n",
       "    </tr>\n",
       "    <tr>\n",
       "      <th>96</th>\n",
       "      <td>0215_01</td>\n",
       "      <td>True</td>\n",
       "    </tr>\n",
       "    <tr>\n",
       "      <th>97</th>\n",
       "      <td>0218_01</td>\n",
       "      <td>False</td>\n",
       "    </tr>\n",
       "    <tr>\n",
       "      <th>98</th>\n",
       "      <td>0226_01</td>\n",
       "      <td>True</td>\n",
       "    </tr>\n",
       "    <tr>\n",
       "      <th>99</th>\n",
       "      <td>0227_01</td>\n",
       "      <td>False</td>\n",
       "    </tr>\n",
       "  </tbody>\n",
       "</table>\n",
       "<p>100 rows × 2 columns</p>\n",
       "</div>"
      ],
      "text/plain": [
       "   PassengerId Transported\n",
       "0      0013_01        True\n",
       "1      0018_01       False\n",
       "2      0019_01        True\n",
       "3      0021_01        True\n",
       "4      0023_01        True\n",
       "..         ...         ...\n",
       "95     0214_02       False\n",
       "96     0215_01        True\n",
       "97     0218_01       False\n",
       "98     0226_01        True\n",
       "99     0227_01       False\n",
       "\n",
       "[100 rows x 2 columns]"
      ]
     },
     "execution_count": 324,
     "metadata": {},
     "output_type": "execute_result"
    }
   ],
   "source": [
    "df_subm.head(100)"
   ]
  },
  {
   "cell_type": "code",
   "execution_count": null,
   "metadata": {},
   "outputs": [],
   "source": []
  }
 ],
 "metadata": {
  "kernelspec": {
   "display_name": "01_DS",
   "language": "python",
   "name": "python3"
  },
  "language_info": {
   "codemirror_mode": {
    "name": "ipython",
    "version": 3
   },
   "file_extension": ".py",
   "mimetype": "text/x-python",
   "name": "python",
   "nbconvert_exporter": "python",
   "pygments_lexer": "ipython3",
   "version": "3.10.6 (main, Nov 14 2022, 16:10:14) [GCC 11.3.0]"
  },
  "orig_nbformat": 4,
  "vscode": {
   "interpreter": {
    "hash": "a774de5323c126ed8e5c5c5ca9e84bd57400984b887fef41a94133a283458ed2"
   }
  }
 },
 "nbformat": 4,
 "nbformat_minor": 2
}
